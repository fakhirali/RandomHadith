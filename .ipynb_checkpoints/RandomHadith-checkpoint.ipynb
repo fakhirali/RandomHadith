{
 "cells": [
  {
   "cell_type": "code",
   "execution_count": 77,
   "metadata": {},
   "outputs": [],
   "source": [
    "from bs4 import BeautifulSoup\n",
    "from urllib.request import urlopen\n",
    "import random"
   ]
  },
  {
   "cell_type": "code",
   "execution_count": null,
   "metadata": {},
   "outputs": [],
   "source": [
    "books"
   ]
  },
  {
   "cell_type": "code",
   "execution_count": 142,
   "metadata": {},
   "outputs": [],
   "source": [
    "def get_hadith_link(vals):\n",
    "    book = random.randint(1,len(vals))\n",
    "    hadith = random.randint(1,vals[book - 1]+1)\n",
    "    print(f\"https://sunnah.com/bukhari/{book}/{hadith}\")\n",
    "    return f\"https://sunnah.com/bukhari/{book}/{hadith}\""
   ]
  },
  {
   "cell_type": "code",
   "execution_count": 143,
   "metadata": {},
   "outputs": [],
   "source": [
    "def printl(l):\n",
    "    for i in l:\n",
    "        print(str(i).strip(\"</p>\"))"
   ]
  },
  {
   "cell_type": "code",
   "execution_count": 154,
   "metadata": {},
   "outputs": [
    {
     "data": {
      "text/plain": [
       "41"
      ]
     },
     "execution_count": 154,
     "metadata": {},
     "output_type": "execute_result"
    }
   ],
   "source": [
    "vals[12] = 37"
   ]
  },
  {
   "cell_type": "code",
   "execution_count": 155,
   "metadata": {},
   "outputs": [
    {
     "name": "stdout",
     "output_type": "stream",
     "text": [
      "https://sunnah.com/bukhari/84/10\n"
     ]
    }
   ],
   "source": [
    "works = False\n",
    "while not works:\n",
    "    try:\n",
    "        html = urlopen(get_hadith_link(vals))\n",
    "        res = BeautifulSoup(html.read(),\"html5lib\");\n",
    "        works = True\n",
    "    except:\n",
    "        works = False"
   ]
  },
  {
   "cell_type": "code",
   "execution_count": 156,
   "metadata": {},
   "outputs": [],
   "source": [
    "l = res.find_all(\"p\")[-2:]"
   ]
  },
  {
   "cell_type": "code",
   "execution_count": 157,
   "metadata": {
    "scrolled": false
   },
   "outputs": [
    {
     "name": "stdout",
     "output_type": "stream",
     "text": [
      "\n",
      "Narrated `Aisha:\n",
      "that she intended to buy Barira (a slave girl) and her masters stipulated that they would have her \n",
      "Wala'. When `Aisha mentioned that to the Prophet (ﷺ) ; he said, \"Buy her, for the Wala' is for the one who \n",
      "manumits.\"\n"
     ]
    }
   ],
   "source": [
    "printl(l)"
   ]
  },
  {
   "cell_type": "code",
   "execution_count": null,
   "metadata": {},
   "outputs": [],
   "source": []
  },
  {
   "cell_type": "code",
   "execution_count": null,
   "metadata": {},
   "outputs": [],
   "source": []
  },
  {
   "cell_type": "code",
   "execution_count": 79,
   "metadata": {},
   "outputs": [],
   "source": [
    "html = urlopen(\"https://sunnah.com/bukhari\")\n",
    "res = BeautifulSoup(html.read(),\"html5lib\")"
   ]
  },
  {
   "cell_type": "code",
   "execution_count": 131,
   "metadata": {
    "scrolled": true
   },
   "outputs": [
    {
     "data": {
      "text/plain": [
       "1187"
      ]
     },
     "execution_count": 131,
     "metadata": {},
     "output_type": "execute_result"
    }
   ],
   "source": [
    "int(str(res.find_all(\"div\")[198].find_all(\"div\")[2]).strip(\"</div>\"))"
   ]
  },
  {
   "cell_type": "code",
   "execution_count": 134,
   "metadata": {},
   "outputs": [],
   "source": [
    "found = res.find_all(\"div\")\n",
    "vals = []\n",
    "for f in found:\n",
    "    try:\n",
    "        if f['class'] == ['book_range']:\n",
    "            v = int(str(f.find_all(\"div\")[2]).strip(\"</div>\")) - int(str(f.find_all(\"div\")[0]).strip(\"</div>\"))\n",
    "            vals.append(v)\n",
    "    except:\n",
    "        pass"
   ]
  },
  {
   "cell_type": "code",
   "execution_count": 136,
   "metadata": {},
   "outputs": [
    {
     "data": {
      "text/plain": [
       "97"
      ]
     },
     "execution_count": 136,
     "metadata": {},
     "output_type": "execute_result"
    }
   ],
   "source": [
    "len(vals)"
   ]
  },
  {
   "cell_type": "code",
   "execution_count": null,
   "metadata": {},
   "outputs": [],
   "source": []
  }
 ],
 "metadata": {
  "kernelspec": {
   "display_name": "Python 3",
   "language": "python",
   "name": "python3"
  },
  "language_info": {
   "codemirror_mode": {
    "name": "ipython",
    "version": 3
   },
   "file_extension": ".py",
   "mimetype": "text/x-python",
   "name": "python",
   "nbconvert_exporter": "python",
   "pygments_lexer": "ipython3",
   "version": "3.8.5"
  }
 },
 "nbformat": 4,
 "nbformat_minor": 4
}

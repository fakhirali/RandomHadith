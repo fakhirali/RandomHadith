{
 "cells": [
  {
   "cell_type": "code",
   "execution_count": 12,
   "metadata": {},
   "outputs": [],
   "source": [
    "from bs4 import BeautifulSoup\n",
    "from urllib.request import urlopen\n",
    "import random"
   ]
  },
  {
   "cell_type": "code",
   "execution_count": 32,
   "metadata": {},
   "outputs": [],
   "source": [
    "def get_hadith_link(vals):\n",
    "    book = random.randint(1,len(vals)-1)\n",
    "    hadith = random.randint(1,vals[book - 1]+1)\n",
    "    print(f\"https://sunnah.com/muslim/{book}/{hadith}\")\n",
    "    return f\"https://sunnah.com/muslim/{book}/{hadith}\""
   ]
  },
  {
   "cell_type": "code",
   "execution_count": 33,
   "metadata": {},
   "outputs": [],
   "source": [
    "def printl(l):\n",
    "    for i in l:\n",
    "        print(str(i).strip(\"</p>\"))"
   ]
  },
  {
   "cell_type": "code",
   "execution_count": 34,
   "metadata": {},
   "outputs": [
    {
     "name": "stdout",
     "output_type": "stream",
     "text": [
      "https://sunnah.com/muslim/4/45\n"
     ]
    }
   ],
   "source": [
    "works = False\n",
    "while not works:\n",
    "    try:\n",
    "        html = urlopen(get_hadith_link(vals))\n",
    "        res = BeautifulSoup(html.read(),\"html5lib\");\n",
    "        works = True\n",
    "    except:\n",
    "        works = False"
   ]
  },
  {
   "cell_type": "code",
   "execution_count": 39,
   "metadata": {},
   "outputs": [
    {
     "data": {
      "text/plain": [
       "<!DOCTYPE html PUBLIC \"-//W3C//DTD XHTML 1.0 Strict//EN\" \"http://www.w3.org/TR/xhtml1/DTD/xhtml1-strict.dtd\">\n",
       "<html xmlns=\"http://www.w3.org/1999/xhtml\"><head>\n",
       "    <meta content=\"text/html; charset=utf-8\" http-equiv=\"Content-Type\"/>\n",
       "  <meta content=\"EN\" http-equiv=\"Content-Language\"/>\n",
       "  <meta content=\"Hadith of the Prophet Muhammad (saws) in English and Arabic\" name=\"description\"/>\n",
       "  <meta content=\"hadith, hadeeth, sunnah, bukhari, muslim, sahih, sunan, tirmidhi, nawawi, holy, arabic, iman, islam, Allah, book, english\" name=\"keywords\"/>\n",
       "  <meta content=\"UTF-8\" name=\"Charset\"/> \n",
       "  <meta content=\"Global\" name=\"Distribution\"/>\n",
       "  <meta content=\"General\" name=\"Rating\"/>\n",
       " \n",
       "  <meta content=\"https://sunnah.com/images/hadith_icon2_huge.png\" property=\"og:image\"/>\n",
       "  <meta content=\"\n",
       "'Ata' narrated on the authority of Abu Huraira who said that one should recite (al-Fatiha) in every (rak'ah of) prayer. What we heard (i. e. recitation) from the Messenger of Allah (ﷺ), we made you listen to that. And that which he (recited) inwardly, we (recited) inwardly for you. A person said \" property=\"og:description\"/>\n",
       "  <meta content=\"width=device-width, initial-scale=1.0\" name=\"viewport\"/>\n",
       "  <link href=\"/css/all.css?ver=1604987143\" media=\"screen\" rel=\"stylesheet\" type=\"text/css\"/>\n",
       "  \n",
       "  <link href=\"/favicon-32x32.png\" rel=\"icon\" sizes=\"32x32\" type=\"image/png\"/>\n",
       "  <link href=\"/favicon-16x16.png\" rel=\"icon\" sizes=\"16x16\" type=\"image/png\"/>\n",
       "  <link href=\"/favicon-128x128.png\" rel=\"icon\" sizes=\"128x128\" type=\"image/png\"/>\n",
       "  <link href=\"/images/hadith_icon2.png\" rel=\"image_src\"/>\n",
       "  <link href=\"/images/apple-touch-icon.png\" rel=\"apple-touch-icon\"/>\n",
       "\n",
       "  <link href=\"https://ajax.googleapis.com/ajax/libs/jqueryui/1.12.1/themes/base/jquery-ui.css\" rel=\"stylesheet\"/>\n",
       "  <script src=\"https://ajax.googleapis.com/ajax/libs/jquery/3.5.1/jquery.min.js\"></script> \n",
       "  <script src=\"https://ajax.googleapis.com/ajax/libs/jqueryui/1.12.1/jquery-ui.min.js\"></script>\n",
       "  <script src=\"/js/jquery.cookie.js\"></script>\n",
       "  <!--<script type=\"text/javascript\" src=\"http://www.google.com/recaptcha/api/js/recaptcha_ajax.js\" async></script>-->\n",
       "\n",
       "  \n",
       "\t<script>\n",
       "\t    var collection = 'muslim';\n",
       "\t    var bookID = '4';\n",
       "\t\tvar pageType = 'hadithtext';\n",
       "\t\tvar spshowing = false;\n",
       "\t\t\t</script>\n",
       "  \t<script>\n",
       "\t\t</script>\n",
       "  <script src=\"/js/sunnah.js?ver=1598481252\"></script>\n",
       "  <!--<script src=\"https://apis.google.com/js/platform.js\" async defer></script>-->\n",
       " \n",
       "  <title>\n",
       "\tHadith - The Book of Prayers  - Sahih Muslim - \tSunnah.com - Sayings and Teachings of Prophet Muhammad (صلى الله عليه و سلم)\n",
       "  </title>\n",
       "</head>\n",
       "\n",
       "<body>\n",
       "<div id=\"fb-root\"></div>\n",
       "\t\n",
       "<div id=\"site\">\n",
       "\t<div id=\"header\">\n",
       "    \t<div id=\"toolbar\">\n",
       "       \t\t<div id=\"toolbarRight\">\n",
       "\t\t\t\t            <a href=\"https://quran.com\">Qur'an</a> |\n",
       "            <a href=\"https://sunnah.com\"><b>Sunnah</b></a> |\n",
       "            <a href=\"https://salah.com\">Prayer Times</a> |\n",
       "            <a href=\"https://quranicaudio.com\">Audio</a> \n",
       "\t        </div>\n",
       "    \t</div>\n",
       "\n",
       "\t\t<a href=\"https://sunnah.com\"><div class=\"bannerTop\" id=\"banner\"></div></a>\n",
       "\t\t<!-- <a href=\"#\"><div id=back-to-top></div></a> -->\n",
       "\t\t\n",
       "<div id=\"search\">\n",
       "    <a class=\"searchtipslink\">Search Tips</a>\n",
       "    <div id=\"searchbar\">\n",
       "        <form action=\"/search/\" id=\"searchform\" method=\"get\" name=\"searchform\">\n",
       "            <input class=\"searchquery\" name=\"q\" placeholder=\"Search …\" type=\"text\" value=\"\"/>\n",
       "            <input class=\"searchsubmit\" type=\"submit\" value=\"l\"/>\n",
       "        </form>\n",
       "    </div>\n",
       "\n",
       "\t<div id=\"searchtips\">\n",
       "\t\t<div class=\"clear\"></div>\n",
       "\t\t<b>Quotes</b> e.g. \"pledge allegiance\"<br/>\n",
       "\t\tSearches for the whole phrase instead of individual words\n",
       "\t\t<p>\n",
       "\t\t<b>Wildcards</b> e.g. test*<br/>\n",
       "\t\tMatches any set of one or more characters. For example test* would result in test, tester, testers, etc.\n",
       "\t\t</p><p>\n",
       "\t\t<b>Fuzzy Search</b> e.g. swore~<br/>\n",
       "\t\tFinds terms that are similar in spelling. For example swore~ would result in swore, snore, score, etc.\n",
       "\t\t</p><p>\n",
       "\t\t<b>Term Boosting</b> e.g. pledge^4 hijrah<br/>\n",
       "\t\tBoosts words with higher relevance. Here, the word <i>pledge</i> will have higher weight than <i>hijrah</i>\n",
       "\t\t</p><p>\n",
       "\t\t<b>Boolean Operators</b> e.g. (\"pledge allegiance\" OR \"shelter) AND prayer<br/>\n",
       "\t\tCreate complex phrase and word queries by using Boolean logic.\n",
       "\t\t</p><p>\n",
       "\t\t<a href=\"/searchtips\">More ...</a>\n",
       "\t</p><div class=\"clear\"></div>\n",
       "\t</div>\n",
       "</div>\n",
       "\t\t<div class=\"clear\"></div>\n",
       "\t\t<div class=\"crumbs\"><a href=\"/\">Home</a> » <a href=\"/muslim\">Sahih Muslim</a> » <a href=\"/muslim/4\">The Book of Prayers </a> » Hadith</div><div class=\"clear\"></div>\t</div>\n",
       "\n",
       "\t<div class=\"clear\"></div>\n",
       "\t<div id=\"topspace\"></div>\n",
       "\n",
       "\t<div id=\"nonheader\">\n",
       "\t<div class=\"sidePanelContainer\">\n",
       "\t\t<div style=\"height: 1px;\"></div>\n",
       "\t\t<div id=\"sidePanel\">\n",
       "\t\t\t    \t</div>\n",
       "\t</div><!-- sidePanelContainer close -->\n",
       "\t<div class=\"mainContainer\"><div id=\"main\">\n",
       "\t        <div class=\"clear\"></div>\n",
       "\t<div class=\"book_info\">\n",
       "    \t<div class=\"book_page_colindextitle\">\n",
       "    \t\t<div class=\"book_page_arabic_name arabic\"> كتاب الصلاة</div>\n",
       "\t\t\t<div class=\"book_page_number\">4</div>    \t\t<div class=\"book_page_english_name\">\n",
       "\t\t\t\tThe Book of Prayers \t\t\t</div>\n",
       "    \t\t<div class=\"clear\"></div>\n",
       "\t\t</div>\n",
       "\t\t<!-- <div style=\"width: 20%; float: left; text-align: center; font-size: 20px; padding-top: 16px;\"><b>1</b> hadith</div> -->\n",
       "\n",
       "\t\n",
       "\t<div class=\"clear\"></div>\n",
       "\t</div>\n",
       "\n",
       "    \n",
       "    <a name=\"0\"></a>\n",
       "\t<div class=\"AllHadith single_hadith\">\n",
       "\t<a name=\"C11.00\"></a>\n",
       "<div class=\"chapter\">\n",
       "<div class=\"echapno\">(11)</div><div class=\"englishchapter\">Chapter: It Is Obligatory To Recite Al-Fatihah In Every Rak'ah; If A Person Cannot Recite Al-Fatihah Or Cannot Learn It, Then He Should Recite Whatever Else He Can Manage</div>\n",
       "<div class=\"achapno\">(11)</div>\n",
       "<div class=\"arabicchapter arabic\">باب وُجُوبِ قِرَاءَةِ الْفَاتِحَةِ فِي كُلِّ رَكْعَةٍ وَإِنَّهُ إِذَا لَمْ يُحْسِنِ الْفَاتِحَةَ وَلاَ أَمْكَنَهُ تَعَلُّمُهَا قَرَأَ مَا تَيَسَّرَ لَهُ مِنْ غَيْرِهَا</div><div class=\"clear\"></div>\n",
       "</div>\n",
       "<div class=\"actualHadithContainer hadith_container_muslim\" id=\"h309100\">\n",
       "<!-- Begin hadith -->\n",
       "\n",
       "<a name=\"45\"></a>\n",
       "<div class=\"hadith_reference_sticky\">Sahih Muslim 396 b</div><div class=\"englishcontainer\" id=\"t309100\"><div class=\"english_hadith_full\"><div class=\"hadith_narrated\"><p>\n",
       "'Ata' narrated on the authority of Abu Huraira who said that one should recite (al-Fatiha) in every (rak'ah of) prayer. What we heard (i. e. recitation) from the Messenger of Allah (ﷺ), we made you listen to that. And that which he (recited) inwardly, we (recited) inwardly for you. A person said to him:</p></div><div class=\"text_details\"> If I add nothing to the (recitation) of the Umm al Qur'an (Surat al-Fatiha), would it make the prayer incomplete? He (AbuHuraira) said: If you add to that (if you recite some of verses of the Qur'an along with Surat at-Fatiha) that is better for you. But if you are contented with it (Surat al-Fatiha) only, it is sufficient for you.</div>\n",
       "<div class=\"clear\"></div></div></div><div class=\"arabic_hadith_full arabic\"><span class=\"arabic_sanad arabic\"></span>\n",
       "<span class=\"arabic_text_details arabic\">حَدَّثَنَا عَمْرٌو النَّاقِدُ، وَزُهَيْرُ بْنُ حَرْبٍ، - وَاللَّفْظُ لِعَمْرٍو - قَالاَ حَدَّثَنَا إِسْمَاعِيلُ بْنُ إِبْرَاهِيمَ، أَخْبَرَنَا ابْنُ جُرَيْجٍ، عَنْ عَطَاءٍ، قَالَ قَالَ أَبُو هُرَيْرَةَ فِي كُلِّ الصَّلاَةِ يَقْرَأُ فَمَا أَسْمَعَنَا رَسُولُ اللَّهِ صلى الله عليه وسلم أَسْمَعْنَاكُمْ وَمَا أَخْفَى مِنَّا أَخْفَيْنَا مِنْكُمْ ‏.‏ فَقَالَ لَهُ رَجُلٌ إِنْ لَمْ أَزِدْ عَلَى أُمِّ الْقُرْآنِ فَقَالَ إِنْ زِدْتَ عَلَيْهَا فَهُوَ خَيْرٌ وَإِنِ انْتَهَيْتَ إِلَيْهَا أَجْزَأَتْ عَنْكَ ‏.‏</span><span class=\"arabic_sanad arabic\"></span></div>\n",
       "<!-- End hadith -->\n",
       "\n",
       "<div class=\"bottomItems\">\n",
       "<table cellpadding=\"0\" cellspacing=\"0\" class=\"hadith_reference\"><tbody><tr><td><b>Reference</b></td><td> : Sahih Muslim 396 b</td></tr><tr><td>In-book reference</td><td> : Book 4, Hadith 45</td></tr><tr><td>USC-MSA web (English) reference</td><td> : Book 4, Hadith 779</td></tr> <tr><td>  <i>(deprecated numbering scheme)</i></td></tr></tbody></table><div class=\"hadith_permalink\"><a href=\"javascript: void(0);\" onclick=\"reportHadith(207790, 'h309100')\">Report Error</a> | <span class=\"sharelink\" onclick=\"share('/muslim/4/45')\">Share</span></div>\n",
       "</div><div class=\"clear\"></div></div><!-- end actual hadith container --><div class=\"clear\"></div><div class=\"hadith_nav_wrapper\"><a class=\"hadith_nav button prev\" href=\"/muslim/4/44\" title=\"Sahih Muslim 396 a\"><i class=\"icn-left\"></i> 396 a</a><a class=\"hadith_nav button next\" href=\"/muslim/4/46\" title=\"Sahih Muslim 396 c\">396 c <i class=\"icn-right\"></i></a></div><!-- <div align=right><i>Content on this page was last updated on </i></div> --></div>\n",
       "\n",
       "\t<div class=\"clear\"></div>\n",
       "    </div><!-- main close -->\n",
       "\t</div> <!-- mainContainer close -->\n",
       "\t<a href=\"#\"><div id=\"back-to-top\"></div></a>\n",
       "\t<div class=\"clear\"></div>\n",
       "\t</div> <!-- nonheader close -->\n",
       "    \n",
       "<div class=\"footer\">\n",
       "\t<a href=\"/about\">About</a> |\n",
       "\t<a href=\"/news\">News</a> |\n",
       "\t<a href=\"/contact\">Contact</a> |\n",
       "\t<a href=\"/support\">Support</a> |\n",
       "\t<a href=\"/developers\">Developers</a>\n",
       "\t<div class=\"sm_links\">\n",
       "\t\t<a href=\"https://www.facebook.com/Sunnahcom-104172848076350\" target=\"_blank\"><i class=\"icn-fb\"></i></a>\n",
       "\t\t<a href=\"https://www.instagram.com/_sunnahcom/\" target=\"_blank\"><i class=\"icn-ig\"></i></a>\n",
       "\t\t<a href=\"https://twitter.com/SunnahCom\" target=\"_blank\"><i class=\"icn-twitter\"></i></a>\n",
       "\t</div>\n",
       "<div class=\"clear\"></div>\n",
       "</div>\n",
       "\n",
       "\n",
       "<script type=\"text/javascript\">\n",
       "var sc_project=7148282;\n",
       "var sc_invisible=1;\n",
       "var sc_security=\"63a57073\";\n",
       "</script>\n",
       "<link href=\"/css/fonts/fontello/css/icn-font.css?ver=1598296798\" rel=\"stylesheet\" type=\"text/css\"/>\n",
       "<script async=\"\" src=\"https://www.statcounter.com/counter/counter.js\" type=\"text/javascript\"></script>\n",
       "<noscript>\n",
       "<div class=\"statcounter\"><a href=\"https://statcounter.com/\" target=\"_blank\" title=\"Web Analytics\">\n",
       "<img alt=\"Web Analytics\" class=\"statcounter\" src=\"https://c.statcounter.com/7148282/0/63a57073/1/\"/></a>\n",
       "</div>\n",
       "</noscript>\n",
       "\n",
       "\t<div class=\"clear\"></div>\n",
       "\n",
       "</div><!-- site div close -->\n",
       "\n",
       "\n",
       "\n",
       "</body></html>"
      ]
     },
     "execution_count": 39,
     "metadata": {},
     "output_type": "execute_result"
    }
   ],
   "source": [
    "res"
   ]
  },
  {
   "cell_type": "code",
   "execution_count": 37,
   "metadata": {},
   "outputs": [],
   "source": [
    "l = res.find_all(\"p\")[:]"
   ]
  },
  {
   "cell_type": "code",
   "execution_count": 38,
   "metadata": {},
   "outputs": [
    {
     "data": {
      "text/plain": [
       "[<p>\n",
       " \t\t<b>Wildcards</b> e.g. test*<br/>\n",
       " \t\tMatches any set of one or more characters. For example test* would result in test, tester, testers, etc.\n",
       " \t\t</p>,\n",
       " <p>\n",
       " \t\t<b>Fuzzy Search</b> e.g. swore~<br/>\n",
       " \t\tFinds terms that are similar in spelling. For example swore~ would result in swore, snore, score, etc.\n",
       " \t\t</p>,\n",
       " <p>\n",
       " \t\t<b>Term Boosting</b> e.g. pledge^4 hijrah<br/>\n",
       " \t\tBoosts words with higher relevance. Here, the word <i>pledge</i> will have higher weight than <i>hijrah</i>\n",
       " \t\t</p>,\n",
       " <p>\n",
       " \t\t<b>Boolean Operators</b> e.g. (\"pledge allegiance\" OR \"shelter) AND prayer<br/>\n",
       " \t\tCreate complex phrase and word queries by using Boolean logic.\n",
       " \t\t</p>,\n",
       " <p>\n",
       " \t\t<a href=\"/searchtips\">More ...</a>\n",
       " \t</p>,\n",
       " <p>\n",
       " 'Ata' narrated on the authority of Abu Huraira who said that one should recite (al-Fatiha) in every (rak'ah of) prayer. What we heard (i. e. recitation) from the Messenger of Allah (ﷺ), we made you listen to that. And that which he (recited) inwardly, we (recited) inwardly for you. A person said to him:</p>]"
      ]
     },
     "execution_count": 38,
     "metadata": {},
     "output_type": "execute_result"
    }
   ],
   "source": [
    "l"
   ]
  },
  {
   "cell_type": "code",
   "execution_count": 18,
   "metadata": {
    "scrolled": false
   },
   "outputs": [
    {
     "name": "stdout",
     "output_type": "stream",
     "text": [
      "\n",
      "\t\t<a href=\"/searchtips\">More ...</a>\n",
      "\t\n",
      "\n",
      "Zaid b. Aslam reported on the authority of his father that 'Umar (Allah be pleased with him) donated a horse in the path of Allah. He found that it had languished in the hand of its possessor, and he was a man of meagre resources He (Hadrat 'Umar) intended to buy it. He came to Allah's Messenger (ﷺ) and made a mention of that to him, whereupon he said:\n"
     ]
    }
   ],
   "source": [
    "printl(l)"
   ]
  },
  {
   "cell_type": "code",
   "execution_count": 19,
   "metadata": {},
   "outputs": [
    {
     "data": {
      "text/plain": [
       "['bukhari', 'muslim']"
      ]
     },
     "execution_count": 19,
     "metadata": {},
     "output_type": "execute_result"
    }
   ],
   "source": [
    "[\"bukhari\", \"muslim\"]"
   ]
  },
  {
   "cell_type": "code",
   "execution_count": 20,
   "metadata": {},
   "outputs": [
    {
     "data": {
      "text/plain": [
       "'bukhari'"
      ]
     },
     "execution_count": 20,
     "metadata": {},
     "output_type": "execute_result"
    }
   ],
   "source": [
    "random.choice([\"bukhari\", \"muslim\"])"
   ]
  },
  {
   "cell_type": "code",
   "execution_count": 21,
   "metadata": {},
   "outputs": [],
   "source": [
    "html = urlopen(\"https://sunnah.com/muslim\")\n",
    "res = BeautifulSoup(html.read(),\"html5lib\")"
   ]
  },
  {
   "cell_type": "code",
   "execution_count": 22,
   "metadata": {
    "scrolled": true
   },
   "outputs": [
    {
     "data": {
      "text/plain": [
       "1491"
      ]
     },
     "execution_count": 22,
     "metadata": {},
     "output_type": "execute_result"
    }
   ],
   "source": [
    "int(str(res.find_all(\"div\")[198].find_all(\"div\")[2]).strip(\"</div>\"))"
   ]
  },
  {
   "cell_type": "code",
   "execution_count": 23,
   "metadata": {},
   "outputs": [],
   "source": [
    "found = res.find_all(\"div\")\n",
    "vals = []\n",
    "for f in found:\n",
    "    try:\n",
    "        if f['class'] == ['book_range']:\n",
    "            v = int(str(f.find_all(\"div\")[2]).strip(\"</div>\")) - int(str(f.find_all(\"div\")[0]).strip(\"</div>\"))\n",
    "            vals.append(v)\n",
    "    except:\n",
    "        pass"
   ]
  },
  {
   "cell_type": "code",
   "execution_count": 24,
   "metadata": {},
   "outputs": [
    {
     "data": {
      "text/plain": [
       "57"
      ]
     },
     "execution_count": 24,
     "metadata": {},
     "output_type": "execute_result"
    }
   ],
   "source": [
    "len(vals)"
   ]
  },
  {
   "cell_type": "code",
   "execution_count": null,
   "metadata": {},
   "outputs": [],
   "source": []
  }
 ],
 "metadata": {
  "kernelspec": {
   "display_name": "Python 3",
   "language": "python",
   "name": "python3"
  },
  "language_info": {
   "codemirror_mode": {
    "name": "ipython",
    "version": 3
   },
   "file_extension": ".py",
   "mimetype": "text/x-python",
   "name": "python",
   "nbconvert_exporter": "python",
   "pygments_lexer": "ipython3",
   "version": "3.8.5"
  }
 },
 "nbformat": 4,
 "nbformat_minor": 4
}
